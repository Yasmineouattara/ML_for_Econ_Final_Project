{
 "cells": [
  {
   "cell_type": "code",
   "execution_count": 1,
   "id": "ecf3746b",
   "metadata": {},
   "outputs": [],
   "source": [
    "import pandas as pd"
   ]
  },
  {
   "cell_type": "code",
   "execution_count": 86,
   "id": "34a5b527",
   "metadata": {},
   "outputs": [],
   "source": [
    "des_data = pd.read_stata(r\"C:\\Users\\timom\\OneDrive\\Desktop\\ML\\OHIE_Public_Use_Files\\OHIE_Data\\oregonhie_descriptive_vars.dta\")\n",
    "ed_data = pd.read_stata(r\"C:\\Users\\timom\\OneDrive\\Desktop\\ML\\OHIE_Public_Use_Files\\OHIE_Data\\oregonhie_ed_vars.dta\")\n",
    "inperson_data = pd.read_stata(r\"C:\\Users\\timom\\OneDrive\\Desktop\\ML\\OHIE_Public_Use_Files\\OHIE_Data\\oregonhie_inperson_vars.dta\")\n",
    "patterns_data = pd.read_stata(r\"C:\\Users\\timom\\OneDrive\\Desktop\\ML\\OHIE_Public_Use_Files\\OHIE_Data\\oregonhie_patterns_vars.dta\")\n",
    "stateprograms_data = pd.read_stata(r\"C:\\Users\\timom\\OneDrive\\Desktop\\ML\\OHIE_Public_Use_Files\\OHIE_Data\\oregonhie_stateprograms_vars.dta\")\n",
    "survey0_data = pd.read_stata(r\"C:\\Users\\timom\\OneDrive\\Desktop\\ML\\OHIE_Public_Use_Files\\OHIE_Data\\oregonhie_survey0m_vars.dta\")\n",
    "survey6_data = pd.read_stata(r\"C:\\Users\\timom\\OneDrive\\Desktop\\ML\\OHIE_Public_Use_Files\\OHIE_Data\\oregonhie_survey6m_vars.dta\")\n",
    "survey12_data = pd.read_stata(r\"C:\\Users\\timom\\OneDrive\\Desktop\\ML\\OHIE_Public_Use_Files\\OHIE_Data\\oregonhie_survey12m_vars.dta\")"
   ]
  },
  {
   "cell_type": "code",
   "execution_count": 88,
   "id": "b18e6306",
   "metadata": {},
   "outputs": [],
   "source": [
    "des_data[\"treatment\"] = des_data[\"treatment\"].apply(lambda x: 1 if x == 'Selected' else 0)\n",
    "des_data[\"applied_app\"] = des_data[\"applied_app\"].apply(lambda x: 1 if pd.notna(x) and  x == 'Submitted an Application to OHP' else 0)\n",
    "des_data[\"approved_app\"] = des_data[\"approved_app\"].apply(lambda x: 1 if pd.notna(x) and x == 'Selected' else 0)\n",
    "des_data[\"postn_death\"] = des_data[\"postn_death\"].apply(lambda x: 1 if  x == 'Alive' else 0)\n",
    "des_data[\"numhh_list\"] = des_data[\"numhh_list\"].apply(lambda x: 1 if  x == 'signed self up' else (2 if 'signed self up + 1 additional person' else 3))\n",
    "des_data[\"female_list\"] = des_data[\"female_list\"].apply(lambda x: 1 if  x == '1: Female' else 0)"
   ]
  },
  {
   "cell_type": "code",
   "execution_count": 91,
   "id": "670eaf5f",
   "metadata": {},
   "outputs": [
    {
     "data": {
      "text/html": [
       "<div>\n",
       "<style scoped>\n",
       "    .dataframe tbody tr th:only-of-type {\n",
       "        vertical-align: middle;\n",
       "    }\n",
       "\n",
       "    .dataframe tbody tr th {\n",
       "        vertical-align: top;\n",
       "    }\n",
       "\n",
       "    .dataframe thead th {\n",
       "        text-align: right;\n",
       "    }\n",
       "</style>\n",
       "<table border=\"1\" class=\"dataframe\">\n",
       "  <thead>\n",
       "    <tr style=\"text-align: right;\">\n",
       "      <th></th>\n",
       "      <th>person_id</th>\n",
       "      <th>household_id</th>\n",
       "      <th>treatment</th>\n",
       "      <th>applied_app</th>\n",
       "      <th>approved_app</th>\n",
       "      <th>postn_death</th>\n",
       "      <th>numhh_list</th>\n",
       "      <th>birthyear_list</th>\n",
       "      <th>female_list</th>\n",
       "      <th>zip_msa_list</th>\n",
       "    </tr>\n",
       "  </thead>\n",
       "  <tbody>\n",
       "    <tr>\n",
       "      <th>0</th>\n",
       "      <td>1.0</td>\n",
       "      <td>100001.0</td>\n",
       "      <td>1</td>\n",
       "      <td>1</td>\n",
       "      <td>0.0</td>\n",
       "      <td>1</td>\n",
       "      <td>1</td>\n",
       "      <td>1978</td>\n",
       "      <td>0</td>\n",
       "      <td>Zip code of residence in a MSA</td>\n",
       "    </tr>\n",
       "    <tr>\n",
       "      <th>1</th>\n",
       "      <td>2.0</td>\n",
       "      <td>100002.0</td>\n",
       "      <td>1</td>\n",
       "      <td>0</td>\n",
       "      <td>0.0</td>\n",
       "      <td>1</td>\n",
       "      <td>1</td>\n",
       "      <td>1984</td>\n",
       "      <td>1</td>\n",
       "      <td>Zip code of residence in a MSA</td>\n",
       "    </tr>\n",
       "    <tr>\n",
       "      <th>2</th>\n",
       "      <td>3.0</td>\n",
       "      <td>100003.0</td>\n",
       "      <td>0</td>\n",
       "      <td>NaN</td>\n",
       "      <td>NaN</td>\n",
       "      <td>1</td>\n",
       "      <td>1</td>\n",
       "      <td>1971</td>\n",
       "      <td>1</td>\n",
       "      <td>Zip code of residence in a MSA</td>\n",
       "    </tr>\n",
       "    <tr>\n",
       "      <th>3</th>\n",
       "      <td>4.0</td>\n",
       "      <td>100004.0</td>\n",
       "      <td>0</td>\n",
       "      <td>NaN</td>\n",
       "      <td>NaN</td>\n",
       "      <td>1</td>\n",
       "      <td>1</td>\n",
       "      <td>1955</td>\n",
       "      <td>1</td>\n",
       "      <td>Zip code of residence in a MSA</td>\n",
       "    </tr>\n",
       "    <tr>\n",
       "      <th>4</th>\n",
       "      <td>5.0</td>\n",
       "      <td>100005.0</td>\n",
       "      <td>1</td>\n",
       "      <td>0</td>\n",
       "      <td>0.0</td>\n",
       "      <td>1</td>\n",
       "      <td>1</td>\n",
       "      <td>1969</td>\n",
       "      <td>1</td>\n",
       "      <td>Zip code of residence in a MSA</td>\n",
       "    </tr>\n",
       "  </tbody>\n",
       "</table>\n",
       "</div>"
      ],
      "text/plain": [
       "   person_id  household_id treatment applied_app  approved_app postn_death  \\\n",
       "0        1.0      100001.0         1           1           0.0           1   \n",
       "1        2.0      100002.0         1           0           0.0           1   \n",
       "2        3.0      100003.0         0         NaN           NaN           1   \n",
       "3        4.0      100004.0         0         NaN           NaN           1   \n",
       "4        5.0      100005.0         1           0           0.0           1   \n",
       "\n",
       "   numhh_list  birthyear_list female_list                    zip_msa_list  \n",
       "0           1            1978           0  Zip code of residence in a MSA  \n",
       "1           1            1984           1  Zip code of residence in a MSA  \n",
       "2           1            1971           1  Zip code of residence in a MSA  \n",
       "3           1            1955           1  Zip code of residence in a MSA  \n",
       "4           1            1969           1  Zip code of residence in a MSA  "
      ]
     },
     "execution_count": 91,
     "metadata": {},
     "output_type": "execute_result"
    }
   ],
   "source": [
    "des_subdata = des_data[['person_id', 'household_id', 'treatment',\n",
    "                    'applied_app', 'approved_app', 'postn_death', 'numhh_list', \n",
    "                    'birthyear_list', 'female_list','zip_msa_list']]\n",
    "des_subdata.head(5)"
   ]
  },
  {
   "cell_type": "code",
   "execution_count": null,
   "id": "150b0678",
   "metadata": {},
   "outputs": [],
   "source": [
    "\n"
   ]
  },
  {
   "cell_type": "code",
   "execution_count": null,
   "id": "0bcf8b68",
   "metadata": {},
   "outputs": [],
   "source": []
  },
  {
   "cell_type": "code",
   "execution_count": null,
   "id": "c5ec9703",
   "metadata": {},
   "outputs": [],
   "source": []
  },
  {
   "cell_type": "code",
   "execution_count": null,
   "id": "552c1583",
   "metadata": {},
   "outputs": [],
   "source": []
  },
  {
   "cell_type": "code",
   "execution_count": null,
   "id": "53bc4ea0",
   "metadata": {},
   "outputs": [],
   "source": []
  }
 ],
 "metadata": {
  "kernelspec": {
   "display_name": "Python 3 (ipykernel)",
   "language": "python",
   "name": "python3"
  },
  "language_info": {
   "codemirror_mode": {
    "name": "ipython",
    "version": 3
   },
   "file_extension": ".py",
   "mimetype": "text/x-python",
   "name": "python",
   "nbconvert_exporter": "python",
   "pygments_lexer": "ipython3",
   "version": "3.10.11"
  }
 },
 "nbformat": 4,
 "nbformat_minor": 5
}
